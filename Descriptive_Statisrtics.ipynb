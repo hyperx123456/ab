{
 "cells": [
  {
   "cell_type": "markdown",
   "id": "0b4e6157-16fe-4d57-a715-e65ee9103842",
   "metadata": {},
   "source": [
    "DESCRIPTIVE STATISTICS 1\n",
    "\n",
    "Measures of Central Tendency and variability. Perform the following operations on any open source dataset (e.g., employee_2.csv/data.csv)\n",
    "\n",
    "1. Provide summary statistics (mean, median, minimum) for a dataset (age, salary etc.) with numeric variables\n",
    "2. Grouped by one of the qualitative (categorical) variable. For example, if your categorical variable is age groups and quantitative variable is income, then provide summary statistics of income grouped by the age groups. Create a list that contains a numeric value for each response to the categorical variable.\n",
    "3. Perform grouping on and display JOB_ID and it's count\n",
    "4. Show data visualization for any column"
   ]
  },
  {
   "cell_type": "code",
   "execution_count": null,
   "id": "9b9028f9-9bea-4a3a-9f80-7b9e66210b22",
   "metadata": {},
   "outputs": [],
   "source": [
    "import pandas as pd\n",
    "import matplotlib.pyplot as plt\n",
    "\n",
    "df = pd.read_csv('datasets/employee_2.csv')\n",
    "\n",
    "df.head()\n",
    "\n",
    "df.info()\n",
    "\n",
    "df.describe()\n",
    "\n",
    "df['Salary'].median()\n",
    "\n",
    "columns=['Age','Salary','ExperienceInCurrentDomain']\n",
    "df[columns].cov()\n",
    "\n",
    "grouped = df.groupby('Gender')['Salary'].mean()\n",
    "grouped\n",
    "\n",
    "grouped = df.groupby(['Gender','Education'])['Salary'].agg(['min','max'])\n",
    "grouped\n",
    "\n",
    "df.groupby('Education').size()\n",
    "\n",
    "df['Gender'].value_counts().plot(kind='bar')\n",
    "\n",
    "plt.hist(df['Salary'], bins=10, edgecolor='black')\n",
    "\n",
    "df['City'].value_counts().plot(kind='bar')\n",
    "\n"
   ]
  },
  {
   "cell_type": "code",
   "execution_count": null,
   "id": "72def855-9189-4ef6-872e-17e0717ac616",
   "metadata": {},
   "outputs": [],
   "source": []
  },
  {
   "cell_type": "markdown",
   "id": "8a1a34f3-413b-4a4d-8329-656f9e7404b7",
   "metadata": {},
   "source": [
    "DESCRIPTIVE STATISTICS 2\n",
    "\n",
    "Measures of Central Tendency and variability. Perform the following operations on any open source dataset (e.g., employee_2.csv/data.csv)\n",
    "\n",
    "1. Provide summary statistics (maximum, standard deviation, covaiance) for a dataset (age, salary etc.) with numeric variables\n",
    "2. Grouped by one of the qualitative (categorical) variable. For example, if your categorical variable is age groups and quantitative variable is income, then provide summary statistics of income grouped by the age groups. Create a list that contains a numeric value for each response to the categorical variable.\n",
    "3. Perform grouping on and display JOB_ID and it's count\n",
    "4. Show data visualization for any column"
   ]
  },
  {
   "cell_type": "code",
   "execution_count": null,
   "id": "a33b3cdf-17f5-488e-90c1-3138beb77ed3",
   "metadata": {},
   "outputs": [],
   "source": [
    "import pandas as pd\n",
    "import matplotlib.pyplot as plt\n",
    "\n",
    "df = pd.read_csv('datasets/employee_2.csv')\n",
    "\n",
    "df.head()\n",
    "\n",
    "df.info()\n",
    "\n",
    "df.describe()\n",
    "\n",
    "df['Salary'].median()\n",
    "\n",
    "columns=['Age','Salary','ExperienceInCurrentDomain']\n",
    "df[columns].cov()\n",
    "\n",
    "grouped = df.groupby('Gender')['Salary'].mean()\n",
    "grouped\n",
    "\n",
    "grouped = df.groupby(['Gender','Education'])['Salary'].agg(['min','max'])\n",
    "grouped\n",
    "\n",
    "df.groupby('Education').size()\n",
    "\n",
    "df['Gender'].value_counts().plot(kind='bar')\n",
    "\n",
    "plt.hist(df['Salary'], bins=10, edgecolor='black')\n",
    "\n",
    "df['City'].value_counts().plot(kind='bar')\n",
    "\n"
   ]
  }
 ],
 "metadata": {
  "kernelspec": {
   "display_name": "Python 3 (ipykernel)",
   "language": "python",
   "name": "python3"
  },
  "language_info": {
   "codemirror_mode": {
    "name": "ipython",
    "version": 3
   },
   "file_extension": ".py",
   "mimetype": "text/x-python",
   "name": "python",
   "nbconvert_exporter": "python",
   "pygments_lexer": "ipython3",
   "version": "3.10.6"
  }
 },
 "nbformat": 4,
 "nbformat_minor": 5
}
