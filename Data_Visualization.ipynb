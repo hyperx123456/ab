{
 "cells": [
  {
   "cell_type": "markdown",
   "id": "f59d2c9c-a1aa-4ac8-a955-06818c644749",
   "metadata": {},
   "source": [
    "DATA VISUALIZATION 1\n",
    "1. Use the inbuilt dataset 'titanic'. The dataset contains 891 rows and contains information about the passengers who boarded the unfortunate Titanic ship. Use the Seaborn library to see if we can find any patterns in the data.\n",
    "2. Write a code to check how the price of the ticket (column name: fare') for each passenger is distributed by plotting a histogram."
   ]
  },
  {
   "cell_type": "code",
   "execution_count": null,
   "id": "f6b6a0d1-784b-45c4-adba-ff873eca1189",
   "metadata": {},
   "outputs": [],
   "source": [
    "import pandas as pd\n",
    "import matplotlib.pyplot as plt\n",
    "import seaborn as sns\n",
    "\n",
    "df = sns.load_dataset('titanic')\n",
    "\n",
    "df.head()\n",
    "\n",
    "df.shape\n",
    "\n",
    "sns.histplot(df['fare'], kde=False, bins=10, color='skyblue')\n",
    "plt.title('Distribution of Ticket Fare for Passengers', fontsize=16)\n",
    "plt.xlabel('Fare', fontsize=14)\n",
    "plt.ylabel('Frequency', fontsize=14)\n",
    "\n",
    "\n"
   ]
  },
  {
   "cell_type": "code",
   "execution_count": null,
   "id": "178b6816-29c6-43bf-9c14-15e9fe8ecdc3",
   "metadata": {},
   "outputs": [],
   "source": []
  },
  {
   "cell_type": "markdown",
   "id": "2962f88b-3a8d-4e9f-b53f-60d533d85eea",
   "metadata": {},
   "source": [
    "Data Visualization 2\n",
    "1. Use the inbuilt dataset 'titanic' as used in the above problem. Plot a box plot for distribution of age with respect to each gender along with the information about whether they survived or not. (Column names : 'sex' and 'age')\n",
    "2. Write observations on the inference from the above statistics."
   ]
  },
  {
   "cell_type": "code",
   "execution_count": null,
   "id": "0946a20f-4a65-4d89-b095-91cdb98779c0",
   "metadata": {},
   "outputs": [],
   "source": [
    "import pandas as pd\n",
    "import matplotlib.pyplot as plt\n",
    "import seaborn as sns\n",
    "\n",
    "df = sns.load_dataset('titanic')\n",
    "\n",
    "df.info()\n",
    "\n",
    "sns.boxplot(x='sex', y='age', data=df, hue='survived')"
   ]
  },
  {
   "cell_type": "code",
   "execution_count": null,
   "id": "7a940e67-e95e-45b0-b224-eb814048e112",
   "metadata": {},
   "outputs": [],
   "source": []
  },
  {
   "cell_type": "markdown",
   "id": "fb392654-3e24-4813-911b-ded0af77ec3e",
   "metadata": {},
   "source": [
    "Data Visualization 3\n",
    "Use the Iris flower dataset or any other dataset into a DataFrame.\n",
    "Scan the dataset and give the inference as:\n",
    "\n",
    "1. List down the features and their types (e.g., numeric, nominal) available in the dataset.\n",
    "2. Create a histogram for each feature in the dataset to illustrate the feature distributions.\n",
    "3. Create a box plot for each feature in the dataset.\n",
    "4. Compare distributions and identify outliers"
   ]
  },
  {
   "cell_type": "code",
   "execution_count": null,
   "id": "32928fc9-46ef-44ee-91f5-8b7001dfb898",
   "metadata": {},
   "outputs": [],
   "source": [
    "import pandas as pd\n",
    "import matplotlib.pyplot as plt\n",
    "import seaborn as sns\n",
    "\n",
    "df = sns.load_dataset('iris')\n",
    "\n",
    "df.info()\n",
    "\n",
    "sns.histplot(data=df['sepal_length'])\n",
    "plt.title('Sepal Length')\n",
    "plt.show()\n",
    "\n",
    "sns.histplot(data=df['sepal_width'])\n",
    "plt.title('Sepal Width')\n",
    "plt.show()\n",
    "\n",
    "sns.histplot(data=df['petal_length'])\n",
    "plt.title('Petal Length')\n",
    "plt.show()\n",
    "\n",
    "sns.histplot(data=df['petal_width'])\n",
    "plt.title('Petal Width')\n",
    "plt.show()\n",
    "\n",
    "sns.boxplot(y=df['sepal_length'], x=df['species'])\n",
    "\n",
    "sns.boxplot(y=df['sepal_width'], x=df['species'])\n",
    "\n",
    "sns.boxplot(y=df['petal_length'], x=df['species'])\n",
    "\n",
    "sns.boxplot(y=df['petal_width'], x=df['species'])\n",
    "plt.grid(True)"
   ]
  }
 ],
 "metadata": {
  "kernelspec": {
   "display_name": "Python 3 (ipykernel)",
   "language": "python",
   "name": "python3"
  },
  "language_info": {
   "codemirror_mode": {
    "name": "ipython",
    "version": 3
   },
   "file_extension": ".py",
   "mimetype": "text/x-python",
   "name": "python",
   "nbconvert_exporter": "python",
   "pygments_lexer": "ipython3",
   "version": "3.10.6"
  }
 },
 "nbformat": 4,
 "nbformat_minor": 5
}
