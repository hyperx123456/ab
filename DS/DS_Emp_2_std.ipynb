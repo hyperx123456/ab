{
 "cells": [
  {
   "cell_type": "markdown",
   "id": "ccfb8643-b279-446a-b210-cc84a15987f5",
   "metadata": {},
   "source": [
    "# PRACTICAL NO. 6\n",
    "# DESCRIPTIVE ANALYSIS "
   ]
  },
  {
   "cell_type": "markdown",
   "id": "ed44161a-7bf5-4fe4-ac56-c2264d91034c",
   "metadata": {},
   "source": [
    "Measures of Central Tendency and variability.\n",
    "Perform the following operations on any open source dataset (e.g., employee_2.csv/data.csv)\n",
    "1. Provide summary statistics (maximum, standard deviation, covaiance)\n",
    "for a dataset (age, salary etc.) with numeric variables\n",
    "2. Grouped by one of the qualitative (categorical) variable. For example, if\n",
    "your categorical variable is age groups and quantitative variable is income,\n",
    "then provide summary statistics of income grouped by the age groups.\n",
    "Create a list that contains a numeric value for each response to the\n",
    "categorical variable.\n",
    "3. Perform grouping on and display JOB_ID and it's count\n",
    "4. Show data visualization for any column"
   ]
  },
  {
   "cell_type": "code",
   "execution_count": 1,
   "id": "0522ad81-1266-4c5d-a8bc-2e7d5308b74b",
   "metadata": {},
   "outputs": [],
   "source": [
    "import pandas as pd\n",
    "import matplotlib.pyplot as plt"
   ]
  },
  {
   "cell_type": "code",
   "execution_count": 2,
   "id": "ac652646-5c89-4cb8-8165-69d7dfd4495a",
   "metadata": {},
   "outputs": [],
   "source": [
    "df = pd.read_csv('datasets/employee_2.csv')"
   ]
  },
  {
   "cell_type": "code",
   "execution_count": 3,
   "id": "67c2646f-2fc2-4cde-9bd6-fd63ca710f3c",
   "metadata": {},
   "outputs": [
    {
     "data": {
      "text/html": [
       "<div>\n",
       "<style scoped>\n",
       "    .dataframe tbody tr th:only-of-type {\n",
       "        vertical-align: middle;\n",
       "    }\n",
       "\n",
       "    .dataframe tbody tr th {\n",
       "        vertical-align: top;\n",
       "    }\n",
       "\n",
       "    .dataframe thead th {\n",
       "        text-align: right;\n",
       "    }\n",
       "</style>\n",
       "<table border=\"1\" class=\"dataframe\">\n",
       "  <thead>\n",
       "    <tr style=\"text-align: right;\">\n",
       "      <th></th>\n",
       "      <th>Education</th>\n",
       "      <th>JoiningYear</th>\n",
       "      <th>City</th>\n",
       "      <th>PaymentTier</th>\n",
       "      <th>Age</th>\n",
       "      <th>Gender</th>\n",
       "      <th>EverBenched</th>\n",
       "      <th>ExperienceInCurrentDomain</th>\n",
       "      <th>LeaveOrNot</th>\n",
       "      <th>Salary</th>\n",
       "    </tr>\n",
       "  </thead>\n",
       "  <tbody>\n",
       "    <tr>\n",
       "      <th>0</th>\n",
       "      <td>Bachelors</td>\n",
       "      <td>2017</td>\n",
       "      <td>Bangalore</td>\n",
       "      <td>3</td>\n",
       "      <td>34</td>\n",
       "      <td>Male</td>\n",
       "      <td>No</td>\n",
       "      <td>0</td>\n",
       "      <td>0</td>\n",
       "      <td>171369.0</td>\n",
       "    </tr>\n",
       "    <tr>\n",
       "      <th>1</th>\n",
       "      <td>Bachelors</td>\n",
       "      <td>2013</td>\n",
       "      <td>Pune</td>\n",
       "      <td>1</td>\n",
       "      <td>28</td>\n",
       "      <td>Female</td>\n",
       "      <td>No</td>\n",
       "      <td>3</td>\n",
       "      <td>1</td>\n",
       "      <td>136993.0</td>\n",
       "    </tr>\n",
       "    <tr>\n",
       "      <th>2</th>\n",
       "      <td>Bachelors</td>\n",
       "      <td>2014</td>\n",
       "      <td>New Delhi</td>\n",
       "      <td>3</td>\n",
       "      <td>38</td>\n",
       "      <td>Female</td>\n",
       "      <td>No</td>\n",
       "      <td>2</td>\n",
       "      <td>0</td>\n",
       "      <td>113807.0</td>\n",
       "    </tr>\n",
       "    <tr>\n",
       "      <th>3</th>\n",
       "      <td>Masters</td>\n",
       "      <td>2016</td>\n",
       "      <td>Bangalore</td>\n",
       "      <td>3</td>\n",
       "      <td>27</td>\n",
       "      <td>Male</td>\n",
       "      <td>No</td>\n",
       "      <td>5</td>\n",
       "      <td>1</td>\n",
       "      <td>166478.0</td>\n",
       "    </tr>\n",
       "    <tr>\n",
       "      <th>4</th>\n",
       "      <td>Masters</td>\n",
       "      <td>2017</td>\n",
       "      <td>NaN</td>\n",
       "      <td>3</td>\n",
       "      <td>24</td>\n",
       "      <td>Male</td>\n",
       "      <td>Yes</td>\n",
       "      <td>2</td>\n",
       "      <td>1</td>\n",
       "      <td>393136.0</td>\n",
       "    </tr>\n",
       "  </tbody>\n",
       "</table>\n",
       "</div>"
      ],
      "text/plain": [
       "   Education  JoiningYear       City  PaymentTier  Age  Gender EverBenched  \\\n",
       "0  Bachelors         2017  Bangalore            3   34    Male          No   \n",
       "1  Bachelors         2013       Pune            1   28  Female          No   \n",
       "2  Bachelors         2014  New Delhi            3   38  Female          No   \n",
       "3    Masters         2016  Bangalore            3   27    Male          No   \n",
       "4    Masters         2017        NaN            3   24    Male         Yes   \n",
       "\n",
       "   ExperienceInCurrentDomain  LeaveOrNot    Salary  \n",
       "0                          0           0  171369.0  \n",
       "1                          3           1  136993.0  \n",
       "2                          2           0  113807.0  \n",
       "3                          5           1  166478.0  \n",
       "4                          2           1  393136.0  "
      ]
     },
     "execution_count": 3,
     "metadata": {},
     "output_type": "execute_result"
    }
   ],
   "source": [
    "df.head()"
   ]
  },
  {
   "cell_type": "code",
   "execution_count": 4,
   "id": "984fa7e0-00b4-4c9e-9fe5-88d017c83033",
   "metadata": {},
   "outputs": [
    {
     "name": "stdout",
     "output_type": "stream",
     "text": [
      "<class 'pandas.core.frame.DataFrame'>\n",
      "RangeIndex: 1807 entries, 0 to 1806\n",
      "Data columns (total 10 columns):\n",
      " #   Column                     Non-Null Count  Dtype  \n",
      "---  ------                     --------------  -----  \n",
      " 0   Education                  1807 non-null   object \n",
      " 1   JoiningYear                1807 non-null   int64  \n",
      " 2   City                       1793 non-null   object \n",
      " 3   PaymentTier                1807 non-null   int64  \n",
      " 4   Age                        1807 non-null   int64  \n",
      " 5   Gender                     1799 non-null   object \n",
      " 6   EverBenched                1807 non-null   object \n",
      " 7   ExperienceInCurrentDomain  1807 non-null   int64  \n",
      " 8   LeaveOrNot                 1807 non-null   int64  \n",
      " 9   Salary                     1798 non-null   float64\n",
      "dtypes: float64(1), int64(5), object(4)\n",
      "memory usage: 141.3+ KB\n"
     ]
    }
   ],
   "source": [
    "df.info()"
   ]
  },
  {
   "cell_type": "markdown",
   "id": "abc430e2-216f-4d2c-b780-76d2470ae5cc",
   "metadata": {},
   "source": [
    "# **1** GIVEN ALL: MEAN, MEDIAN, MODE, MAXIMUM, MINIMUM, STD, COVARIANCE"
   ]
  },
  {
   "cell_type": "code",
   "execution_count": 5,
   "id": "3c2e8757-260f-4364-9050-3a2cdf02047b",
   "metadata": {},
   "outputs": [
    {
     "data": {
      "text/html": [
       "<div>\n",
       "<style scoped>\n",
       "    .dataframe tbody tr th:only-of-type {\n",
       "        vertical-align: middle;\n",
       "    }\n",
       "\n",
       "    .dataframe tbody tr th {\n",
       "        vertical-align: top;\n",
       "    }\n",
       "\n",
       "    .dataframe thead th {\n",
       "        text-align: right;\n",
       "    }\n",
       "</style>\n",
       "<table border=\"1\" class=\"dataframe\">\n",
       "  <thead>\n",
       "    <tr style=\"text-align: right;\">\n",
       "      <th></th>\n",
       "      <th>JoiningYear</th>\n",
       "      <th>PaymentTier</th>\n",
       "      <th>Age</th>\n",
       "      <th>ExperienceInCurrentDomain</th>\n",
       "      <th>LeaveOrNot</th>\n",
       "      <th>Salary</th>\n",
       "    </tr>\n",
       "  </thead>\n",
       "  <tbody>\n",
       "    <tr>\n",
       "      <th>count</th>\n",
       "      <td>1807.000000</td>\n",
       "      <td>1807.000000</td>\n",
       "      <td>1807.000000</td>\n",
       "      <td>1807.000000</td>\n",
       "      <td>1807.000000</td>\n",
       "      <td>1798.000000</td>\n",
       "    </tr>\n",
       "    <tr>\n",
       "      <th>mean</th>\n",
       "      <td>2015.076923</td>\n",
       "      <td>2.695075</td>\n",
       "      <td>26.310459</td>\n",
       "      <td>3.228002</td>\n",
       "      <td>0.362479</td>\n",
       "      <td>224240.323693</td>\n",
       "    </tr>\n",
       "    <tr>\n",
       "      <th>std</th>\n",
       "      <td>1.854077</td>\n",
       "      <td>0.564248</td>\n",
       "      <td>2.142854</td>\n",
       "      <td>1.302112</td>\n",
       "      <td>0.480849</td>\n",
       "      <td>100823.365853</td>\n",
       "    </tr>\n",
       "    <tr>\n",
       "      <th>min</th>\n",
       "      <td>2012.000000</td>\n",
       "      <td>1.000000</td>\n",
       "      <td>22.000000</td>\n",
       "      <td>0.000000</td>\n",
       "      <td>0.000000</td>\n",
       "      <td>50135.000000</td>\n",
       "    </tr>\n",
       "    <tr>\n",
       "      <th>25%</th>\n",
       "      <td>2013.000000</td>\n",
       "      <td>2.000000</td>\n",
       "      <td>25.000000</td>\n",
       "      <td>2.000000</td>\n",
       "      <td>0.000000</td>\n",
       "      <td>137712.250000</td>\n",
       "    </tr>\n",
       "    <tr>\n",
       "      <th>50%</th>\n",
       "      <td>2015.000000</td>\n",
       "      <td>3.000000</td>\n",
       "      <td>26.000000</td>\n",
       "      <td>3.000000</td>\n",
       "      <td>0.000000</td>\n",
       "      <td>226605.500000</td>\n",
       "    </tr>\n",
       "    <tr>\n",
       "      <th>75%</th>\n",
       "      <td>2017.000000</td>\n",
       "      <td>3.000000</td>\n",
       "      <td>27.000000</td>\n",
       "      <td>4.000000</td>\n",
       "      <td>1.000000</td>\n",
       "      <td>309474.000000</td>\n",
       "    </tr>\n",
       "    <tr>\n",
       "      <th>max</th>\n",
       "      <td>2018.000000</td>\n",
       "      <td>3.000000</td>\n",
       "      <td>40.000000</td>\n",
       "      <td>5.000000</td>\n",
       "      <td>1.000000</td>\n",
       "      <td>399785.000000</td>\n",
       "    </tr>\n",
       "  </tbody>\n",
       "</table>\n",
       "</div>"
      ],
      "text/plain": [
       "       JoiningYear  PaymentTier          Age  ExperienceInCurrentDomain  \\\n",
       "count  1807.000000  1807.000000  1807.000000                1807.000000   \n",
       "mean   2015.076923     2.695075    26.310459                   3.228002   \n",
       "std       1.854077     0.564248     2.142854                   1.302112   \n",
       "min    2012.000000     1.000000    22.000000                   0.000000   \n",
       "25%    2013.000000     2.000000    25.000000                   2.000000   \n",
       "50%    2015.000000     3.000000    26.000000                   3.000000   \n",
       "75%    2017.000000     3.000000    27.000000                   4.000000   \n",
       "max    2018.000000     3.000000    40.000000                   5.000000   \n",
       "\n",
       "        LeaveOrNot         Salary  \n",
       "count  1807.000000    1798.000000  \n",
       "mean      0.362479  224240.323693  \n",
       "std       0.480849  100823.365853  \n",
       "min       0.000000   50135.000000  \n",
       "25%       0.000000  137712.250000  \n",
       "50%       0.000000  226605.500000  \n",
       "75%       1.000000  309474.000000  \n",
       "max       1.000000  399785.000000  "
      ]
     },
     "execution_count": 5,
     "metadata": {},
     "output_type": "execute_result"
    }
   ],
   "source": [
    "df.describe()"
   ]
  },
  {
   "cell_type": "code",
   "execution_count": 6,
   "id": "cb8b1e58-7616-468c-a596-7afffb79e845",
   "metadata": {},
   "outputs": [
    {
     "data": {
      "text/plain": [
       "226605.5"
      ]
     },
     "execution_count": 6,
     "metadata": {},
     "output_type": "execute_result"
    }
   ],
   "source": [
    "df['Salary'].median()"
   ]
  },
  {
   "cell_type": "code",
   "execution_count": 7,
   "id": "0dfc9398-4054-456f-9e32-a45d45a9c26d",
   "metadata": {},
   "outputs": [
    {
     "data": {
      "text/html": [
       "<div>\n",
       "<style scoped>\n",
       "    .dataframe tbody tr th:only-of-type {\n",
       "        vertical-align: middle;\n",
       "    }\n",
       "\n",
       "    .dataframe tbody tr th {\n",
       "        vertical-align: top;\n",
       "    }\n",
       "\n",
       "    .dataframe thead th {\n",
       "        text-align: right;\n",
       "    }\n",
       "</style>\n",
       "<table border=\"1\" class=\"dataframe\">\n",
       "  <thead>\n",
       "    <tr style=\"text-align: right;\">\n",
       "      <th></th>\n",
       "      <th>Age</th>\n",
       "      <th>Salary</th>\n",
       "      <th>ExperienceInCurrentDomain</th>\n",
       "    </tr>\n",
       "  </thead>\n",
       "  <tbody>\n",
       "    <tr>\n",
       "      <th>Age</th>\n",
       "      <td>4.591823</td>\n",
       "      <td>-4.897130e+03</td>\n",
       "      <td>0.177237</td>\n",
       "    </tr>\n",
       "    <tr>\n",
       "      <th>Salary</th>\n",
       "      <td>-4897.130103</td>\n",
       "      <td>1.016535e+10</td>\n",
       "      <td>-2294.803631</td>\n",
       "    </tr>\n",
       "    <tr>\n",
       "      <th>ExperienceInCurrentDomain</th>\n",
       "      <td>0.177237</td>\n",
       "      <td>-2.294804e+03</td>\n",
       "      <td>1.695495</td>\n",
       "    </tr>\n",
       "  </tbody>\n",
       "</table>\n",
       "</div>"
      ],
      "text/plain": [
       "                                   Age        Salary  \\\n",
       "Age                           4.591823 -4.897130e+03   \n",
       "Salary                    -4897.130103  1.016535e+10   \n",
       "ExperienceInCurrentDomain     0.177237 -2.294804e+03   \n",
       "\n",
       "                           ExperienceInCurrentDomain  \n",
       "Age                                         0.177237  \n",
       "Salary                                  -2294.803631  \n",
       "ExperienceInCurrentDomain                   1.695495  "
      ]
     },
     "execution_count": 7,
     "metadata": {},
     "output_type": "execute_result"
    }
   ],
   "source": [
    "columns=['Age','Salary','ExperienceInCurrentDomain']\n",
    "df[columns].cov()"
   ]
  },
  {
   "cell_type": "markdown",
   "id": "de09ef85-48fe-4799-99fa-d5f629a8d691",
   "metadata": {},
   "source": [
    "# **2**"
   ]
  },
  {
   "cell_type": "code",
   "execution_count": 8,
   "id": "bed8c26f-6c8e-408b-9b92-6f12f552c6a8",
   "metadata": {},
   "outputs": [
    {
     "data": {
      "text/plain": [
       "Gender\n",
       "Female    220593.566897\n",
       "Male      226768.696060\n",
       "Name: Salary, dtype: float64"
      ]
     },
     "execution_count": 8,
     "metadata": {},
     "output_type": "execute_result"
    }
   ],
   "source": [
    "grouped = df.groupby('Gender')['Salary'].mean()\n",
    "grouped"
   ]
  },
  {
   "cell_type": "code",
   "execution_count": 9,
   "id": "dd59d721-3e76-45b8-92ee-756039b06ded",
   "metadata": {},
   "outputs": [
    {
     "data": {
      "text/html": [
       "<div>\n",
       "<style scoped>\n",
       "    .dataframe tbody tr th:only-of-type {\n",
       "        vertical-align: middle;\n",
       "    }\n",
       "\n",
       "    .dataframe tbody tr th {\n",
       "        vertical-align: top;\n",
       "    }\n",
       "\n",
       "    .dataframe thead th {\n",
       "        text-align: right;\n",
       "    }\n",
       "</style>\n",
       "<table border=\"1\" class=\"dataframe\">\n",
       "  <thead>\n",
       "    <tr style=\"text-align: right;\">\n",
       "      <th></th>\n",
       "      <th></th>\n",
       "      <th>min</th>\n",
       "      <th>max</th>\n",
       "    </tr>\n",
       "    <tr>\n",
       "      <th>Gender</th>\n",
       "      <th>Education</th>\n",
       "      <th></th>\n",
       "      <th></th>\n",
       "    </tr>\n",
       "  </thead>\n",
       "  <tbody>\n",
       "    <tr>\n",
       "      <th rowspan=\"3\" valign=\"top\">Female</th>\n",
       "      <th>Bachelors</th>\n",
       "      <td>50136.0</td>\n",
       "      <td>399598.0</td>\n",
       "    </tr>\n",
       "    <tr>\n",
       "      <th>Masters</th>\n",
       "      <td>52750.0</td>\n",
       "      <td>398111.0</td>\n",
       "    </tr>\n",
       "    <tr>\n",
       "      <th>PHD</th>\n",
       "      <td>50135.0</td>\n",
       "      <td>393601.0</td>\n",
       "    </tr>\n",
       "    <tr>\n",
       "      <th rowspan=\"3\" valign=\"top\">Male</th>\n",
       "      <th>Bachelors</th>\n",
       "      <td>50214.0</td>\n",
       "      <td>399785.0</td>\n",
       "    </tr>\n",
       "    <tr>\n",
       "      <th>Masters</th>\n",
       "      <td>51513.0</td>\n",
       "      <td>393963.0</td>\n",
       "    </tr>\n",
       "    <tr>\n",
       "      <th>PHD</th>\n",
       "      <td>53571.0</td>\n",
       "      <td>399612.0</td>\n",
       "    </tr>\n",
       "  </tbody>\n",
       "</table>\n",
       "</div>"
      ],
      "text/plain": [
       "                      min       max\n",
       "Gender Education                   \n",
       "Female Bachelors  50136.0  399598.0\n",
       "       Masters    52750.0  398111.0\n",
       "       PHD        50135.0  393601.0\n",
       "Male   Bachelors  50214.0  399785.0\n",
       "       Masters    51513.0  393963.0\n",
       "       PHD        53571.0  399612.0"
      ]
     },
     "execution_count": 9,
     "metadata": {},
     "output_type": "execute_result"
    }
   ],
   "source": [
    "grouped = df.groupby(['Gender','Education'])['Salary'].agg(['min','max'])\n",
    "grouped"
   ]
  },
  {
   "cell_type": "markdown",
   "id": "f1502a45-fefc-43d8-8dd7-ec04b09796fc",
   "metadata": {},
   "source": [
    "# **3**"
   ]
  },
  {
   "cell_type": "code",
   "execution_count": 10,
   "id": "fd433343-ce03-4624-8732-8f694e2d1ed1",
   "metadata": {},
   "outputs": [
    {
     "data": {
      "text/plain": [
       "Education\n",
       "Bachelors    1391\n",
       "Masters       353\n",
       "PHD            63\n",
       "dtype: int64"
      ]
     },
     "execution_count": 10,
     "metadata": {},
     "output_type": "execute_result"
    }
   ],
   "source": [
    "df.groupby('Education').size()"
   ]
  },
  {
   "cell_type": "markdown",
   "id": "809ef3f9-245f-4793-b5ae-d197cc9008ed",
   "metadata": {},
   "source": [
    "# **4**"
   ]
  },
  {
   "cell_type": "code",
   "execution_count": 11,
   "id": "73280a18-2505-41d3-97fe-4e9dc03530d5",
   "metadata": {},
   "outputs": [
    {
     "data": {
      "text/plain": [
       "<Axes: >"
      ]
     },
     "execution_count": 11,
     "metadata": {},
     "output_type": "execute_result"
    },
    {
     "data": {
      "image/png": "[encoded data removed]",
      "text/plain": [
       "<Figure size 640x480 with 1 Axes>"
      ]
     },
     "metadata": {},
     "output_type": "display_data"
    }
   ],
   "source": [
    "df['Gender'].value_counts().plot(kind='bar')"
   ]
  },
  {
   "cell_type": "code",
   "execution_count": 12,
   "id": "88cb3164-023e-4524-a64d-4da845719311",
   "metadata": {},
   "outputs": [
    {
     "data": {
      "text/plain": [
       "(array([187., 183., 163., 184., 170., 211., 173., 172., 179., 176.]),\n",
       " array([ 50135.,  85100., 120065., 155030., 189995., 224960., 259925.,\n",
       "        294890., 329855., 364820., 399785.]),\n",
       " <BarContainer object of 10 artists>)"
      ]
     },
     "execution_count": 12,
     "metadata": {},
     "output_type": "execute_result"
    },
    {
     "data": {
      "image/png": "[encoded data removed]",
      "text/plain": [
       "<Figure size 640x480 with 1 Axes>"
      ]
     },
     "metadata": {},
     "output_type": "display_data"
    }
   ],
   "source": [
    "plt.hist(df['Salary'], bins=10, edgecolor='black')"
   ]
  },
  {
   "cell_type": "code",
   "execution_count": 13,
   "id": "c33b595f-30d3-4a18-8d79-323f59a365d6",
   "metadata": {},
   "outputs": [
    {
     "data": {
      "text/plain": [
       "<Axes: >"
      ]
     },
     "execution_count": 13,
     "metadata": {},
     "output_type": "execute_result"
    },
    {
     "data": {
      "image/png": "[encoded data removed]",
      "text/plain": [
       "<Figure size 640x480 with 1 Axes>"
      ]
     },
     "metadata": {},
     "output_type": "display_data"
    }
   ],
   "source": [
    "df['City'].value_counts().plot(kind='bar')"
   ]
  },
  {
   "cell_type": "code",
   "execution_count": null,
   "id": "eaa537cf-f7ce-48f5-bd09-050831811174",
   "metadata": {},
   "outputs": [],
   "source": []
  }
 ],
 "metadata": {
  "kernelspec": {
   "display_name": "Python 3 (ipykernel)",
   "language": "python",
   "name": "python3"
  },
  "language_info": {
   "codemirror_mode": {
    "name": "ipython",
    "version": 3
   },
   "file_extension": ".py",
   "mimetype": "text/x-python",
   "name": "python",
   "nbconvert_exporter": "python",
   "pygments_lexer": "ipython3",
   "version": "3.10.6"
  }
 },
 "nbformat": 4,
 "nbformat_minor": 5
}
